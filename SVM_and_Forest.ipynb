{
 "cells": [
  {
   "cell_type": "code",
   "id": "initial_id",
   "metadata": {
    "collapsed": true
   },
   "source": [
    "import os\n",
    "import numpy as np\n",
    "import pandas as pd\n",
    "import seaborn as sns\n",
    "import matplotlib.pyplot as plt\n",
    "from mpl_toolkits.mplot3d import Axes3D"
   ],
   "outputs": [],
   "execution_count": null
  },
  {
   "metadata": {},
   "cell_type": "code",
   "source": [
    "# Loading data.\n",
    "def load_data(folder, label):\n",
    "    files = [os.path.join(folder, f) for f in os.listdir(folder) if f.endswith('.csv')]\n",
    "    data = []\n",
    "    for file in files:\n",
    "        df = pd.read_csv(file)\n",
    "        df['label'] = label\n",
    "        data.append(df)\n",
    "    combined = pd.concat(data, ignore_index=True)\n",
    "    return combined\n",
    "\n",
    "idle_data = load_data('data/idle', 'idle')\n",
    "running_data = load_data('data/running', 'running')\n",
    "elevation_data = load_data('data/stairs', 'elevation')\n",
    "walking_data = load_data('data/walking', 'walking')\n"
   ],
   "id": "81cce1e93240c74",
   "outputs": [],
   "execution_count": null
  }
 ],
 "metadata": {
  "kernelspec": {
   "display_name": "Python 3",
   "language": "python",
   "name": "python3"
  },
  "language_info": {
   "codemirror_mode": {
    "name": "ipython",
    "version": 2
   },
   "file_extension": ".py",
   "mimetype": "text/x-python",
   "name": "python",
   "nbconvert_exporter": "python",
   "pygments_lexer": "ipython2",
   "version": "2.7.6"
  }
 },
 "nbformat": 4,
 "nbformat_minor": 5
}
