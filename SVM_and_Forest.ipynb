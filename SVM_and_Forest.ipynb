{
 "cells": [
  {
   "cell_type": "code",
   "id": "initial_id",
   "metadata": {
    "collapsed": true,
    "ExecuteTime": {
     "end_time": "2024-06-18T20:19:39.505551Z",
     "start_time": "2024-06-18T20:19:39.498517Z"
    }
   },
   "source": [
    "import os\n",
    "import pandas as pd\n",
    "import matplotlib.pyplot as plt\n",
    "from sklearn.svm import SVC\n",
    "from sklearn.ensemble import RandomForestClassifier\n",
    "from sklearn.metrics import confusion_matrix, classification_report, accuracy_score\n",
    "from sklearn.tree import plot_tree\n",
    "\n",
    "pd.set_option('display.max_columns', None)\n",
    "pd.set_option('display.max_rows', None)"
   ],
   "outputs": [],
   "execution_count": 188
  },
  {
   "metadata": {
    "ExecuteTime": {
     "end_time": "2024-06-18T20:19:53.666756Z",
     "start_time": "2024-06-18T20:19:39.514558Z"
    }
   },
   "cell_type": "code",
   "source": [
    "# Loading data.\n",
    "def load_data(folder, label, sampling_interval_ms=100):\n",
    "    files = [os.path.join(folder, f) for f in os.listdir(folder) if f.endswith('.csv')]\n",
    "    data = []\n",
    "    for file in files:\n",
    "        df = pd.read_csv(file)\n",
    "        df['label'] = label\n",
    "        df['timestamp'] = pd.date_range(start='2024-01-01', periods=len(df), freq=f'{sampling_interval_ms}ms')\n",
    "        df['timestamp'] = df['timestamp'].dt.strftime('%H:%M:%S.%f').str[:-4]\n",
    "        data.append(df)\n",
    "    combined = pd.concat(data, ignore_index=True)\n",
    "    return combined\n",
    "\n",
    "idle_data = load_data('data/idle', 'idle')\n",
    "running_data = load_data('data/running', 'running')\n",
    "elevation_data = load_data('data/stairs', 'elevation')\n",
    "walking_data = load_data('data/walking', 'walking')\n",
    "\n",
    "all_data = pd.concat([idle_data, running_data, elevation_data, walking_data], ignore_index=True)\n",
    "all_data = all_data.rename(columns={'accelerometer_X': 'acc_X', 'accelerometer_Y': 'acc_Y', 'accelerometer_Z': 'acc_Z'})\n",
    "\n",
    "print(f'DATA SAMPLE HEAD:\\n{all_data.head()}\\n')\n",
    "print(f'DATA SAMPLE TAIL:\\n{all_data.tail()}\\n')\n",
    "print(f'LABEL DATA:\\n{all_data['label'].value_counts()}')"
   ],
   "id": "81cce1e93240c74",
   "outputs": [
    {
     "name": "stdout",
     "output_type": "stream",
     "text": [
      "DATA SAMPLE HEAD:\n",
      "      acc_X     acc_Y     acc_Z label    timestamp\n",
      "0  1.000776  4.616021  8.576031  idle  00:00:00.00\n",
      "1  0.718261  4.209007  8.446744  idle  00:00:00.10\n",
      "2 -0.909797 -0.282516  9.203311  idle  00:00:00.20\n",
      "3  5.099650  0.148441  8.418014  idle  00:00:00.30\n",
      "4  1.762132 -0.162806  9.251195  idle  00:00:00.40\n",
      "\n",
      "DATA SAMPLE TAIL:\n",
      "           acc_X      acc_Y     acc_Z    label    timestamp\n",
      "193855  5.109226 -15.452178 -1.470040  walking  00:00:02.50\n",
      "193856  6.373365 -11.741165 -8.226476  walking  00:00:02.60\n",
      "193857  3.289633  -9.993398 -0.383072  walking  00:00:02.70\n",
      "193858 -2.978387  -3.050213  1.273715  walking  00:00:02.80\n",
      "193859 -4.347870  -9.926360 -1.642422  walking  00:00:02.90\n",
      "\n",
      "LABEL DATA:\n",
      "label\n",
      "running      102240\n",
      "walking       55500\n",
      "idle          31170\n",
      "elevation      4950\n",
      "Name: count, dtype: int64\n"
     ]
    }
   ],
   "execution_count": 189
  },
  {
   "metadata": {
    "ExecuteTime": {
     "end_time": "2024-06-18T20:19:54.074834Z",
     "start_time": "2024-06-18T20:19:53.667760Z"
    }
   },
   "cell_type": "code",
   "source": [
    "def feature_define(df):\n",
    "    feature = pd.DataFrame()\n",
    "    columns = ['acc_X', 'acc_Y', 'acc_Z']\n",
    "    \n",
    "    for col in columns:\n",
    "        feature[col + '_mean'] = df[col].rolling(window=30).mean().reset_index(drop=True)\n",
    "        feature[col + '_median'] = df[col].rolling(window=30).median().reset_index(drop=True)\n",
    "        feature[col + '_std'] = df[col].rolling(window=30).std().reset_index(drop=True)\n",
    "        feature[col + '_max'] = df[col].rolling(window=30).max().reset_index(drop=True)\n",
    "        feature[col + '_min'] = df[col].rolling(window=30).min().reset_index(drop=True)\n",
    "    return feature.dropna()\n",
    "\n",
    "features = feature_define(all_data)\n",
    "features.reset_index(drop=True, inplace=True)\n",
    "\n",
    "labels = all_data['label'][len(all_data) - len(features):].reset_index(drop=True)\n",
    "assert len(features) == len(labels), \"Mismatch between features and labels length\"\n",
    "\n",
    "print(f'FEATURES:\\n{features.head()}')\n",
    "print(f'LABELS:\\n{labels.head()}')"
   ],
   "id": "15576213de5ba3b0",
   "outputs": [
    {
     "name": "stdout",
     "output_type": "stream",
     "text": [
      "FEATURES:\n",
      "   acc_X_mean  acc_X_median  acc_X_std  acc_X_max  acc_X_min  acc_Y_mean  acc_Y_median  acc_Y_std  \\\n",
      "0    0.178448     -0.102950   1.036361   5.099650  -0.909797    0.167435     -0.131681   1.157603   \n",
      "1    0.141737     -0.102950   1.025678   5.099650  -0.909797    0.009417     -0.131681   0.796708   \n",
      "2    0.115081     -0.102950   1.020557   5.099650  -0.909797   -0.134554     -0.131681   0.075075   \n",
      "3    0.141258     -0.102950   1.003288   5.099650  -0.320823   -0.130245     -0.131681   0.069816   \n",
      "4   -0.039424     -0.110133   0.363864   1.762132  -0.320823   -0.141577     -0.134075   0.046827   \n",
      "\n",
      "   acc_Y_max  acc_Y_min  acc_Z_mean  acc_Z_median  acc_Z_std  acc_Z_max  acc_Z_min  \n",
      "0   4.616021  -0.282516    9.605697      9.770737   0.406903    9.80665   8.418014  \n",
      "1   4.209007  -0.282516    9.645281      9.770737   0.358120    9.80665   8.418014  \n",
      "2   0.148441  -0.282516    9.688536      9.770737   0.277703    9.80665   8.418014  \n",
      "3   0.148441  -0.244209    9.707530      9.773131   0.262438    9.80665   8.418014  \n",
      "4   0.023942  -0.244209    9.753339      9.773131   0.098034    9.80665   9.251195  \n",
      "LABELS:\n",
      "0    idle\n",
      "1    idle\n",
      "2    idle\n",
      "3    idle\n",
      "4    idle\n",
      "Name: label, dtype: object\n"
     ]
    }
   ],
   "execution_count": 190
  },
  {
   "metadata": {
    "ExecuteTime": {
     "end_time": "2024-06-18T20:19:54.119641Z",
     "start_time": "2024-06-18T20:19:54.074834Z"
    }
   },
   "cell_type": "code",
   "source": [
    "assert len(features) == len(labels), \"Mismatch between features and labels length\"\n",
    "\n",
    "from sklearn.model_selection import train_test_split\n",
    "\n",
    "X_train, X_test, y_train, y_test = train_test_split(features, labels, test_size=0.3, random_state=42)\n",
    "\n",
    "print(\"Training set size:\", X_train.shape)\n",
    "print(\"Test set size:\", X_test.shape)"
   ],
   "id": "a659be31069e98e2",
   "outputs": [
    {
     "name": "stdout",
     "output_type": "stream",
     "text": [
      "Training set size: (135681, 15)\n",
      "Test set size: (58150, 15)\n"
     ]
    }
   ],
   "execution_count": 191
  },
  {
   "metadata": {
    "ExecuteTime": {
     "end_time": "2024-06-18T20:20:56.794552Z",
     "start_time": "2024-06-18T20:19:54.120641Z"
    }
   },
   "cell_type": "code",
   "source": [
    "# Model SVM\n",
    "svm_model = SVC(kernel='linear')\n",
    "svm_model.fit(X_train, y_train)\n",
    "\n",
    "# Model random forest\n",
    "rf_model = RandomForestClassifier(n_estimators=100, random_state=42)\n",
    "rf_model.fit(X_train, y_train)\n",
    "\n",
    "# Forecasting on the test sample\n",
    "y_pred_svm = svm_model.predict(X_test)\n",
    "y_pred_rf = rf_model.predict(X_test)\n",
    "\n",
    "# Calculation of the confusion matrix\n",
    "conf_matrix_svm = confusion_matrix(y_test, y_pred_svm)\n",
    "conf_matrix_rf = confusion_matrix(y_test, y_pred_rf)"
   ],
   "id": "18ffaebbb07e2b3",
   "outputs": [],
   "execution_count": 192
  },
  {
   "metadata": {
    "ExecuteTime": {
     "end_time": "2024-06-18T20:20:59.683432Z",
     "start_time": "2024-06-18T20:20:56.795556Z"
    }
   },
   "cell_type": "code",
   "source": [
    "# Accuracy\n",
    "accuracy_svm = accuracy_score(y_test, y_pred_svm)\n",
    "accuracy_rf = accuracy_score(y_test, y_pred_rf)\n",
    "\n",
    "print(\"SVM Accuracy:\", accuracy_svm)\n",
    "print(\"Random Forest Accuracy:\", accuracy_rf)\n",
    "\n",
    "# Raport\n",
    "print(\"SVM Classification Report:\")\n",
    "print(classification_report(y_test, y_pred_svm))\n",
    "\n",
    "print(\"Random Forest Classification Report:\")\n",
    "print(classification_report(y_test, y_pred_rf))"
   ],
   "id": "9ac8f60f2bc21a9d",
   "outputs": [
    {
     "name": "stdout",
     "output_type": "stream",
     "text": [
      "SVM Accuracy: 0.9895270851246776\n",
      "Random Forest Accuracy: 0.9998452278589853\n",
      "SVM Classification Report:\n",
      "              precision    recall  f1-score   support\n",
      "\n",
      "   elevation       0.87      0.70      0.78      1515\n",
      "        idle       1.00      1.00      1.00      9299\n",
      "     running       1.00      1.00      1.00     30622\n",
      "     walking       0.97      0.99      0.98     16714\n",
      "\n",
      "    accuracy                           0.99     58150\n",
      "   macro avg       0.96      0.92      0.94     58150\n",
      "weighted avg       0.99      0.99      0.99     58150\n",
      "\n",
      "Random Forest Classification Report:\n",
      "              precision    recall  f1-score   support\n",
      "\n",
      "   elevation       1.00      1.00      1.00      1515\n",
      "        idle       1.00      1.00      1.00      9299\n",
      "     running       1.00      1.00      1.00     30622\n",
      "     walking       1.00      1.00      1.00     16714\n",
      "\n",
      "    accuracy                           1.00     58150\n",
      "   macro avg       1.00      1.00      1.00     58150\n",
      "weighted avg       1.00      1.00      1.00     58150\n",
      "\n"
     ]
    }
   ],
   "execution_count": 193
  }
 ],
 "metadata": {
  "kernelspec": {
   "display_name": "Python 3",
   "language": "python",
   "name": "python3"
  },
  "language_info": {
   "codemirror_mode": {
    "name": "ipython",
    "version": 2
   },
   "file_extension": ".py",
   "mimetype": "text/x-python",
   "name": "python",
   "nbconvert_exporter": "python",
   "pygments_lexer": "ipython2",
   "version": "2.7.6"
  }
 },
 "nbformat": 4,
 "nbformat_minor": 5
}
